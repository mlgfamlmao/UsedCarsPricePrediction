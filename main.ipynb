{
 "cells": [
  {
   "cell_type": "markdown",
   "id": "afc7a6c8",
   "metadata": {},
   "source": [
    "Bharat Nandan Bodala.  github- @mlgfamlmao\n",
    "\n",
    "\n",
    "PROBLEM CASE -  predict price value of a car based on a set of features.\n",
    "\n",
    "features- {\n",
    "dateCrawled: Date the car was crawled. (Date)\n",
    "name: Name of the car. (String)\n",
    "seller: Type of seller (private or dealer). (String)\n",
    "offerType: Type of offer (e.g. sale, repair, etc.). (String)\n",
    "price: Price of the car. (Integer)\n",
    "abtest: Test type (A or B). (String)\n",
    "vehicleType: Type of vehicle (e.g. SUV, sedan, etc.). (String)\n",
    "yearOfRegistration: Year the car was registered. (Integer)\n",
    "gearbox: Type of gearbox (manual or automatic). (String)\n",
    "powerPS: Power of the car in PS. (Integer)\n",
    "model: Model of the car. (String)\n",
    "kilometer: Kilometers the car has been driven. (Integer)\n",
    "monthOfRegistration: Month the car was registered. (Integer)\n",
    "fuelType: Type of fuel (e.g. diesel, petrol, etc.). (String)\n",
    "brand: Brand of the car. (String)\n",
    "notRepairedDamage: Whether or not the car has any damage that has not been repaired. (String)\n",
    "dateCreated: Date the car was created. (Date)\n",
    "nrOfPictures: Number of pictures of the car. (Integer)\n",
    "postalCode: Postal code of the car. (Integer)\n",
    "lastSeen: Date the car was last seen. (Date)\n",
    "}\n",
    "\n",
    "Approach:\n",
    "        -My initial approach was to clean up data (dropped some useless columns such as index etc and removed outlier values.) , and then, I generated correlation matrices and pyplots. \n",
    "        -Many of the features were deemed useless by observation except powerPS.\n",
    "        -Before proceeding to build a model on one feature, I tried to perform 3 bit encoding to vehicleType and binary encoding to gearbox, but again, the data is not good and no type of meaningful polynomial relation is to be found. \n",
    "        -Either ways, I have decided to train a model based on one feature powerPS.\n",
    "        -Initial chosen hyperparameters: epochs= 50, learning_rate= 0.001, batch_size= 500.\n",
    "        -Used a 1 density keras model with gradient descent approach. Used mean squared error loss as convergence metric.\n",
    "        -Since aforementioned keras model has some unexpected bugs, scikit SGD regressor was used. It provided poor results\n",
    "\n",
    "Conclusion:\n",
    "        Poor data. "
   ]
  },
  {
   "cell_type": "code",
   "execution_count": 1,
   "id": "5e31786d",
   "metadata": {},
   "outputs": [
    {
     "name": "stderr",
     "output_type": "stream",
     "text": [
      "C:\\Users\\bhara\\AppData\\Local\\Packages\\PythonSoftwareFoundation.Python.3.11_qbz5n2kfra8p0\\LocalCache\\local-packages\\Python311\\site-packages\\tqdm\\auto.py:21: TqdmWarning: IProgress not found. Please update jupyter and ipywidgets. See https://ipywidgets.readthedocs.io/en/stable/user_install.html\n",
      "  from .autonotebook import tqdm as notebook_tqdm\n"
     ]
    }
   ],
   "source": [
    "import pandas as pd\n",
    "import tensorflow\n",
    "import numpy as np\n",
    "import keras\n",
    "import seaborn as sns\n",
    "import kagglehub\n",
    "import matplotlib.pyplot as plt\n",
    "from sklearn.model_selection import train_test_split\n",
    "from sklearn.linear_model import LinearRegression\n",
    "from sklearn.preprocessing import PolynomialFeatures\n",
    "from sklearn.metrics import r2_score\n",
    "from sklearn.linear_model import SGDRegressor\n",
    "import joblib"
   ]
  },
  {
   "cell_type": "code",
   "execution_count": 2,
   "id": "ff365761",
   "metadata": {},
   "outputs": [
    {
     "name": "stdout",
     "output_type": "stream",
     "text": [
      "             dateCrawled                                name  seller  \\\n",
      "0    2016-03-24 11:52:17                          Golf_3_1.6  privat   \n",
      "1    2016-03-24 10:58:45                A5_Sportback_2.7_Tdi  privat   \n",
      "2    2016-03-14 12:52:21      Jeep_Grand_Cherokee_\"Overland\"  privat   \n",
      "3    2016-03-17 16:54:04                  GOLF_4_1_4__3TÜRER  privat   \n",
      "4    2016-03-31 17:25:20      Skoda_Fabia_1.4_TDI_PD_Classic  privat   \n",
      "..                   ...                                 ...     ...   \n",
      "195  2016-03-25 15:56:48       Volkswagen_Golf_Plus_1.6_Goal  privat   \n",
      "196  2016-03-08 21:52:34     Volkswagen_Golf_R32_4Motion_DSG  privat   \n",
      "197  2016-04-03 11:44:17                     Golf_1_6_Family  privat   \n",
      "198  2016-03-21 20:43:01       Hyundai_Getz_1.5_CRDi_VGT_GLS  privat   \n",
      "199  2016-03-27 12:47:45  VW_Polo_Coupe_86c_1990Bj._125193km  privat   \n",
      "\n",
      "    offerType  price   abtest vehicleType  yearOfRegistration  gearbox  \\\n",
      "0     Angebot    480     test         NaN                1993        0   \n",
      "1     Angebot  18300     test       coupe                2011        0   \n",
      "2     Angebot   9800     test         suv                2004        1   \n",
      "3     Angebot   1500     test  kleinwagen                2001        0   \n",
      "4     Angebot   3600     test  kleinwagen                2008        0   \n",
      "..        ...    ...      ...         ...                 ...      ...   \n",
      "195   Angebot   4900     test         bus                2006        0   \n",
      "196   Angebot  11299  control   limousine                2006        1   \n",
      "197   Angebot    550  control      andere                1997        0   \n",
      "198   Angebot   1400  control  kleinwagen                2006        0   \n",
      "199   Angebot   1200     test       coupe                1990        0   \n",
      "\n",
      "     powerPS  model  kilometer  monthOfRegistration fuelType       brand  \\\n",
      "0          0   golf     150000                    0   benzin  volkswagen   \n",
      "1        190    NaN     125000                    5   diesel        audi   \n",
      "2        163  grand     125000                    8   diesel        jeep   \n",
      "3         75   golf     150000                    6   benzin  volkswagen   \n",
      "4         69  fabia      90000                    7   diesel       skoda   \n",
      "..       ...    ...        ...                  ...      ...         ...   \n",
      "195      102   golf     150000                    8   benzin  volkswagen   \n",
      "196      250   golf     150000                    8   benzin  volkswagen   \n",
      "197       75   golf     150000                    6   benzin  volkswagen   \n",
      "198       88   getz     150000                    7   diesel     hyundai   \n",
      "199       45    NaN     150000                    0   benzin  volkswagen   \n",
      "\n",
      "    notRepairedDamage          dateCreated  nrOfPictures  postalCode  \\\n",
      "0                 NaN  2016-03-24 00:00:00             0       70435   \n",
      "1                  ja  2016-03-24 00:00:00             0       66954   \n",
      "2                 NaN  2016-03-14 00:00:00             0       90480   \n",
      "3                nein  2016-03-17 00:00:00             0       91074   \n",
      "4                nein  2016-03-31 00:00:00             0       60437   \n",
      "..                ...                  ...           ...         ...   \n",
      "195                ja  2016-03-25 00:00:00             0        4288   \n",
      "196              nein  2016-03-08 00:00:00             0       22083   \n",
      "197              nein  2016-04-03 00:00:00             0       96175   \n",
      "198                ja  2016-03-21 00:00:00             0       51147   \n",
      "199               NaN  2016-03-27 00:00:00             0       83317   \n",
      "\n",
      "                lastSeen  \n",
      "0    2016-04-07 03:16:57  \n",
      "1    2016-04-07 01:46:50  \n",
      "2    2016-04-05 12:47:46  \n",
      "3    2016-03-17 17:40:17  \n",
      "4    2016-04-06 10:17:21  \n",
      "..                   ...  \n",
      "195  2016-04-06 20:16:54  \n",
      "196  2016-03-19 09:46:58  \n",
      "197  2016-04-07 12:45:02  \n",
      "198  2016-04-02 22:47:22  \n",
      "199  2016-04-07 08:17:08  \n",
      "\n",
      "[200 rows x 20 columns]\n",
      "--\n",
      "[nan, 'coupe', 'suv', 'kleinwagen', 'limousine', 'cabrio', 'bus', 'kombi', 'andere']\n"
     ]
    }
   ],
   "source": [
    "dataset= pd.read_csv(\"autos.csv\")\n",
    "dataset[\"gearbox\"]= dataset[\"gearbox\"].apply(lambda x : 1 if x==\"automatik\" else 0)\n",
    "cleaned = dataset.drop(['index'], axis=1)\n",
    "print(cleaned.head(200))\n",
    "print(\"--\")\n",
    "cleaned[\"price\"]= cleaned[\"price\"]/100000\n",
    "print(cleaned['vehicleType'].unique().tolist())"
   ]
  },
  {
   "cell_type": "code",
   "execution_count": 3,
   "id": "ea83df16",
   "metadata": {},
   "outputs": [
    {
     "data": {
      "text/plain": [
       "<Axes: xlabel='vehicleType', ylabel='price'>"
      ]
     },
     "execution_count": 3,
     "metadata": {},
     "output_type": "execute_result"
    },
    {
     "data": {
      "image/png": "[encoded data removed]",
      "text/plain": [
       "<Figure size 640x480 with 1 Axes>"
      ]
     },
     "metadata": {},
     "output_type": "display_data"
    }
   ],
   "source": [
    "sns.stripplot(x='vehicleType', y='price', data=cleaned)\n",
    "#too much similarity between vehicleType and prices\n",
    "\n"
   ]
  },
  {
   "cell_type": "code",
   "execution_count": 4,
   "id": "68f3558c",
   "metadata": {},
   "outputs": [
    {
     "data": {
      "text/plain": [
       "<Axes: xlabel='model', ylabel='price'>"
      ]
     },
     "execution_count": 4,
     "metadata": {},
     "output_type": "execute_result"
    },
    {
     "data": {
      "image/png": "[encoded data removed]",
      "text/plain": [
       "<Figure size 640x480 with 1 Axes>"
      ]
     },
     "metadata": {},
     "output_type": "display_data"
    }
   ],
   "source": [
    "sns.stripplot(x='model', y = 'price', data = cleaned)\n",
    "#too much similarity between model types and prices"
   ]
  },
  {
   "cell_type": "code",
   "execution_count": 5,
   "id": "28602334",
   "metadata": {},
   "outputs": [],
   "source": [
    "def vehicleEncoding():\n",
    "    #Assign each vehicleType to a 3 bit binary number (000,001 etc)\n",
    "    #Idea scrapped as doing this may not be beneficial at all based on aforementioned reasons.\n",
    "    return\n",
    "\n"
   ]
  },
  {
   "cell_type": "code",
   "execution_count": 6,
   "id": "180578ec",
   "metadata": {},
   "outputs": [
    {
     "name": "stdout",
     "output_type": "stream",
     "text": [
      "               price  yearOfRegistration        gearbox        powerPS  \\\n",
      "count  371528.000000       371528.000000  371528.000000  371528.000000   \n",
      "mean        0.172951         2004.577997       0.207535     115.549477   \n",
      "std        35.879537           92.866598       0.405542     192.139578   \n",
      "min         0.000000         1000.000000       0.000000       0.000000   \n",
      "25%         0.011500         1999.000000       0.000000      70.000000   \n",
      "50%         0.029500         2003.000000       0.000000     105.000000   \n",
      "75%         0.072000         2008.000000       0.000000     150.000000   \n",
      "max     21474.836470         9999.000000       1.000000   20000.000000   \n",
      "\n",
      "           kilometer  monthOfRegistration  nrOfPictures    postalCode  \n",
      "count  371528.000000        371528.000000      371528.0  371528.00000  \n",
      "mean   125618.688228             5.734445           0.0   50820.66764  \n",
      "std     40112.337051             3.712412           0.0   25799.08247  \n",
      "min      5000.000000             0.000000           0.0    1067.00000  \n",
      "25%    125000.000000             3.000000           0.0   30459.00000  \n",
      "50%    150000.000000             6.000000           0.0   49610.00000  \n",
      "75%    150000.000000             9.000000           0.0   71546.00000  \n",
      "max    150000.000000            12.000000           0.0   99998.00000  \n"
     ]
    },
    {
     "data": {
      "text/html": [
       "<div>\n",
       "<style scoped>\n",
       "    .dataframe tbody tr th:only-of-type {\n",
       "        vertical-align: middle;\n",
       "    }\n",
       "\n",
       "    .dataframe tbody tr th {\n",
       "        vertical-align: top;\n",
       "    }\n",
       "\n",
       "    .dataframe thead th {\n",
       "        text-align: right;\n",
       "    }\n",
       "</style>\n",
       "<table border=\"1\" class=\"dataframe\">\n",
       "  <thead>\n",
       "    <tr style=\"text-align: right;\">\n",
       "      <th></th>\n",
       "      <th>price</th>\n",
       "      <th>yearOfRegistration</th>\n",
       "      <th>gearbox</th>\n",
       "      <th>powerPS</th>\n",
       "      <th>kilometer</th>\n",
       "      <th>monthOfRegistration</th>\n",
       "      <th>nrOfPictures</th>\n",
       "      <th>postalCode</th>\n",
       "    </tr>\n",
       "  </thead>\n",
       "  <tbody>\n",
       "    <tr>\n",
       "      <th>price</th>\n",
       "      <td>1.000000</td>\n",
       "      <td>-0.000182</td>\n",
       "      <td>-0.000306</td>\n",
       "      <td>0.006850</td>\n",
       "      <td>-0.000635</td>\n",
       "      <td>-0.002826</td>\n",
       "      <td>NaN</td>\n",
       "      <td>-0.003164</td>\n",
       "    </tr>\n",
       "    <tr>\n",
       "      <th>yearOfRegistration</th>\n",
       "      <td>-0.000182</td>\n",
       "      <td>1.000000</td>\n",
       "      <td>0.002108</td>\n",
       "      <td>0.000351</td>\n",
       "      <td>-0.055319</td>\n",
       "      <td>-0.011607</td>\n",
       "      <td>NaN</td>\n",
       "      <td>-0.001652</td>\n",
       "    </tr>\n",
       "    <tr>\n",
       "      <th>gearbox</th>\n",
       "      <td>-0.000306</td>\n",
       "      <td>0.002108</td>\n",
       "      <td>1.000000</td>\n",
       "      <td>0.149427</td>\n",
       "      <td>-0.038602</td>\n",
       "      <td>0.056415</td>\n",
       "      <td>NaN</td>\n",
       "      <td>-0.018422</td>\n",
       "    </tr>\n",
       "    <tr>\n",
       "      <th>powerPS</th>\n",
       "      <td>0.006850</td>\n",
       "      <td>0.000351</td>\n",
       "      <td>0.149427</td>\n",
       "      <td>1.000000</td>\n",
       "      <td>-0.010738</td>\n",
       "      <td>0.044358</td>\n",
       "      <td>NaN</td>\n",
       "      <td>0.027113</td>\n",
       "    </tr>\n",
       "    <tr>\n",
       "      <th>kilometer</th>\n",
       "      <td>-0.000635</td>\n",
       "      <td>-0.055319</td>\n",
       "      <td>-0.038602</td>\n",
       "      <td>-0.010738</td>\n",
       "      <td>1.000000</td>\n",
       "      <td>0.001838</td>\n",
       "      <td>NaN</td>\n",
       "      <td>-0.026694</td>\n",
       "    </tr>\n",
       "    <tr>\n",
       "      <th>monthOfRegistration</th>\n",
       "      <td>-0.002826</td>\n",
       "      <td>-0.011607</td>\n",
       "      <td>0.056415</td>\n",
       "      <td>0.044358</td>\n",
       "      <td>0.001838</td>\n",
       "      <td>1.000000</td>\n",
       "      <td>NaN</td>\n",
       "      <td>0.014963</td>\n",
       "    </tr>\n",
       "    <tr>\n",
       "      <th>nrOfPictures</th>\n",
       "      <td>NaN</td>\n",
       "      <td>NaN</td>\n",
       "      <td>NaN</td>\n",
       "      <td>NaN</td>\n",
       "      <td>NaN</td>\n",
       "      <td>NaN</td>\n",
       "      <td>NaN</td>\n",
       "      <td>NaN</td>\n",
       "    </tr>\n",
       "    <tr>\n",
       "      <th>postalCode</th>\n",
       "      <td>-0.003164</td>\n",
       "      <td>-0.001652</td>\n",
       "      <td>-0.018422</td>\n",
       "      <td>0.027113</td>\n",
       "      <td>-0.026694</td>\n",
       "      <td>0.014963</td>\n",
       "      <td>NaN</td>\n",
       "      <td>1.000000</td>\n",
       "    </tr>\n",
       "  </tbody>\n",
       "</table>\n",
       "</div>"
      ],
      "text/plain": [
       "                        price  yearOfRegistration   gearbox   powerPS  \\\n",
       "price                1.000000           -0.000182 -0.000306  0.006850   \n",
       "yearOfRegistration  -0.000182            1.000000  0.002108  0.000351   \n",
       "gearbox             -0.000306            0.002108  1.000000  0.149427   \n",
       "powerPS              0.006850            0.000351  0.149427  1.000000   \n",
       "kilometer           -0.000635           -0.055319 -0.038602 -0.010738   \n",
       "monthOfRegistration -0.002826           -0.011607  0.056415  0.044358   \n",
       "nrOfPictures              NaN                 NaN       NaN       NaN   \n",
       "postalCode          -0.003164           -0.001652 -0.018422  0.027113   \n",
       "\n",
       "                     kilometer  monthOfRegistration  nrOfPictures  postalCode  \n",
       "price                -0.000635            -0.002826           NaN   -0.003164  \n",
       "yearOfRegistration   -0.055319            -0.011607           NaN   -0.001652  \n",
       "gearbox              -0.038602             0.056415           NaN   -0.018422  \n",
       "powerPS              -0.010738             0.044358           NaN    0.027113  \n",
       "kilometer             1.000000             0.001838           NaN   -0.026694  \n",
       "monthOfRegistration   0.001838             1.000000           NaN    0.014963  \n",
       "nrOfPictures               NaN                  NaN           NaN         NaN  \n",
       "postalCode           -0.026694             0.014963           NaN    1.000000  "
      ]
     },
     "execution_count": 6,
     "metadata": {},
     "output_type": "execute_result"
    }
   ],
   "source": [
    "print(cleaned.describe())\n",
    "cleaned.corr(numeric_only= True)\n"
   ]
  },
  {
   "cell_type": "code",
   "execution_count": 7,
   "id": "e7e25c26",
   "metadata": {},
   "outputs": [
    {
     "name": "stdout",
     "output_type": "stream",
     "text": [
      "70153     0.05500\n",
      "135557    0.02000\n",
      "46479     0.00000\n",
      "51079     0.00890\n",
      "185913    0.02000\n",
      "           ...   \n",
      "259178    0.12500\n",
      "365838    0.03800\n",
      "131932    0.00001\n",
      "146867    0.02850\n",
      "121958    0.14900\n",
      "Name: price, Length: 260069, dtype: float64\n"
     ]
    }
   ],
   "source": [
    "X = cleaned.drop([\"price\"],axis=1)\n",
    "y= cleaned[\"price\"]\n",
    "\n",
    "\n",
    "X_train, X_test, y_train, y_test = train_test_split(\n",
    "    X, y, test_size=0.3, random_state=42\n",
    ")\n",
    "print(y_train)"
   ]
  },
  {
   "cell_type": "code",
   "execution_count": 8,
   "id": "b75b2dff",
   "metadata": {},
   "outputs": [
    {
     "data": {
      "text/plain": [
       "<seaborn.axisgrid.PairGrid at 0x2593d34a4d0>"
      ]
     },
     "execution_count": 8,
     "metadata": {},
     "output_type": "execute_result"
    },
    {
     "data": {
      "image/png": "[encoded data removed]",
      "text/plain": [
       "<Figure size 750x750 with 12 Axes>"
      ]
     },
     "metadata": {},
     "output_type": "display_data"
    }
   ],
   "source": [
    "sns.pairplot(cleaned.head(2000),x_vars=[\"price\",\"powerPS\",\"gearbox\"],y_vars=[\"price\",\"powerPS\",\"gearbox\"])"
   ]
  },
  {
   "cell_type": "code",
   "execution_count": 9,
   "id": "5fad72d2",
   "metadata": {},
   "outputs": [],
   "source": [
    "#This method is bringing some errors which i cannot debug; used scikit insetad (next code block).\n",
    "def build_model(learning_rate,num_features):\n",
    "  inputs= keras.Input(shape = (num_features,))\n",
    "  output = keras.layers.Dense(units= 1)(inputs)\n",
    "  model = keras.Model(inputs= inputs, outputs= output)\n",
    "\n",
    "  #compile the model\n",
    "  print(\"Model metrics:\", model.metrics_names)\n",
    "\n",
    "  model.compile(optimizer=keras.optimizers.RMSprop(learning_rate=learning_rate),\n",
    "                loss=\"mean_squared_error\",\n",
    "                metrics=[keras.metrics.RootMeanSquaredError()])\n",
    "\n",
    "  return model\n",
    "\n",
    "def train_model(model, features, label, epochs, batch_size):\n",
    "\n",
    "\n",
    "\n",
    "  history = model.fit(x=features,\n",
    "                      y=label,\n",
    "                      batch_size=batch_size,\n",
    "                      epochs=epochs)\n",
    "\n",
    "\n",
    "  trained_weight = model.get_weights()[0]\n",
    "  trained_bias = model.get_weights()[1]\n",
    "\n",
    "  epochs = history.epoch\n",
    "\n",
    "\n",
    "\n",
    "  hist = pd.DataFrame(history.history)\n",
    "\n",
    "\n",
    "  rmse = hist[\"root_mean_squared_error\"]\n",
    "\n",
    "  return trained_weight, trained_bias, epochs, rmse\n",
    "\n",
    "def visuaize():\n",
    "  return"
   ]
  },
  {
   "cell_type": "code",
   "execution_count": 10,
   "id": "64dcac0a",
   "metadata": {},
   "outputs": [
    {
     "name": "stdout",
     "output_type": "stream",
     "text": [
      "Weights: [0.00351195]\n",
      "Bias: [0.083]\n",
      "Epochs: 38\n",
      "Final RMSE: 42.69670179589195\n"
     ]
    },
    {
     "data": {
      "text/plain": [
       "['FinalUsedCarsModel.pkl']"
      ]
     },
     "execution_count": 10,
     "metadata": {},
     "output_type": "execute_result"
    }
   ],
   "source": [
    "learning_rate= 0.001\n",
    "batch_size= 50\n",
    "epochs= 50\n",
    "features= ['powerPS']\n",
    "feature_values = X_train.loc[:, features] \n",
    "label = \"price\"\n",
    "#model = build_model(learning_rate, len(features)) cannot debug??\n",
    "model = SGDRegressor(alpha=0.01, learning_rate='constant', eta0=learning_rate,\n",
    "                     loss='epsilon_insensitive', max_iter=epochs, n_iter_no_change=20, penalty='l2')\n",
    "model.fit(X_train[features], y_train)\n",
    "\n",
    "trained_weight = model.coef_\n",
    "trained_bias = model.intercept_\n",
    "trained_epochs = model.n_iter_\n",
    "# rmse calculation is not done yet, you need to compute it manually\n",
    "from sklearn.metrics import mean_squared_error\n",
    "import numpy as np\n",
    "rmse = np.sqrt(mean_squared_error(y_train, model.predict(X_train[features])))\n",
    "\n",
    "print(\"Weights:\", trained_weight)\n",
    "print(\"Bias:\", trained_bias)\n",
    "print(\"Epochs:\", trained_epochs)\n",
    "print(\"Final RMSE:\", rmse)\n",
    "\n",
    "joblib.dump(model, 'FinalUsedCarsModel.pkl')\n",
    "\n",
    "\n",
    "#Not going to test on test data. Credit to this decision goes to the poor RMSE value.\n",
    "#Conclusion: poor data.\n",
    "\n",
    "\n",
    "\n"
   ]
  }
 ],
 "metadata": {
  "kernelspec": {
   "display_name": "Python 3",
   "language": "python",
   "name": "python3"
  },
  "language_info": {
   "codemirror_mode": {
    "name": "ipython",
    "version": 3
   },
   "file_extension": ".py",
   "mimetype": "text/x-python",
   "name": "python",
   "nbconvert_exporter": "python",
   "pygments_lexer": "ipython3",
   "version": "3.11.9"
  }
 },
 "nbformat": 4,
 "nbformat_minor": 5
}
